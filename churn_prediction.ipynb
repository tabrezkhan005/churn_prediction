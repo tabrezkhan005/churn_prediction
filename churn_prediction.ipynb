{
 "cells": [
  {
   "cell_type": "code",
   "execution_count": 173,
   "id": "9e4e2369-cb05-41a7-8131-55eb6d613de3",
   "metadata": {},
   "outputs": [],
   "source": [
    "import pandas as pd\n",
    "import numpy as np\n",
    "import matplotlib.pyplot as plt"
   ]
  },
  {
   "cell_type": "markdown",
   "id": "a45efc9d-6d8d-436e-9c6b-716edfe30e75",
   "metadata": {},
   "source": [
    "importing dataset"
   ]
  },
  {
   "cell_type": "code",
   "execution_count": 174,
   "id": "fbc5bc24-3b50-4fc6-9232-a365b69769dd",
   "metadata": {},
   "outputs": [],
   "source": [
    "df = pd.read_csv(\"churn_prediction_data.csv\")"
   ]
  },
  {
   "cell_type": "code",
   "execution_count": 175,
   "id": "7d590bce-364c-4ed4-b8b8-780be0be5342",
   "metadata": {},
   "outputs": [
    {
     "data": {
      "text/html": [
       "<div>\n",
       "<style scoped>\n",
       "    .dataframe tbody tr th:only-of-type {\n",
       "        vertical-align: middle;\n",
       "    }\n",
       "\n",
       "    .dataframe tbody tr th {\n",
       "        vertical-align: top;\n",
       "    }\n",
       "\n",
       "    .dataframe thead th {\n",
       "        text-align: right;\n",
       "    }\n",
       "</style>\n",
       "<table border=\"1\" class=\"dataframe\">\n",
       "  <thead>\n",
       "    <tr style=\"text-align: right;\">\n",
       "      <th></th>\n",
       "      <th>CustomerID</th>\n",
       "      <th>Gender</th>\n",
       "      <th>Age</th>\n",
       "      <th>Tenure</th>\n",
       "      <th>Balance</th>\n",
       "      <th>NumOfProducts</th>\n",
       "      <th>HasCrCard</th>\n",
       "      <th>IsActiveMember</th>\n",
       "      <th>EstimatedSalary</th>\n",
       "      <th>Exited</th>\n",
       "    </tr>\n",
       "  </thead>\n",
       "  <tbody>\n",
       "    <tr>\n",
       "      <th>0</th>\n",
       "      <td>1001</td>\n",
       "      <td>Female</td>\n",
       "      <td>82</td>\n",
       "      <td>0</td>\n",
       "      <td>234628.86</td>\n",
       "      <td>1</td>\n",
       "      <td>1</td>\n",
       "      <td>0</td>\n",
       "      <td>182668.03</td>\n",
       "      <td>1</td>\n",
       "    </tr>\n",
       "    <tr>\n",
       "      <th>1</th>\n",
       "      <td>1002</td>\n",
       "      <td>Male</td>\n",
       "      <td>38</td>\n",
       "      <td>6</td>\n",
       "      <td>110710.15</td>\n",
       "      <td>1</td>\n",
       "      <td>0</td>\n",
       "      <td>1</td>\n",
       "      <td>63794.06</td>\n",
       "      <td>0</td>\n",
       "    </tr>\n",
       "    <tr>\n",
       "      <th>2</th>\n",
       "      <td>1003</td>\n",
       "      <td>Female</td>\n",
       "      <td>37</td>\n",
       "      <td>3</td>\n",
       "      <td>118320.04</td>\n",
       "      <td>3</td>\n",
       "      <td>1</td>\n",
       "      <td>1</td>\n",
       "      <td>140566.99</td>\n",
       "      <td>1</td>\n",
       "    </tr>\n",
       "    <tr>\n",
       "      <th>3</th>\n",
       "      <td>1004</td>\n",
       "      <td>Male</td>\n",
       "      <td>35</td>\n",
       "      <td>1</td>\n",
       "      <td>162201.05</td>\n",
       "      <td>1</td>\n",
       "      <td>1</td>\n",
       "      <td>0</td>\n",
       "      <td>170302.01</td>\n",
       "      <td>0</td>\n",
       "    </tr>\n",
       "    <tr>\n",
       "      <th>4</th>\n",
       "      <td>1005</td>\n",
       "      <td>Female</td>\n",
       "      <td>27</td>\n",
       "      <td>2</td>\n",
       "      <td>145675.66</td>\n",
       "      <td>3</td>\n",
       "      <td>0</td>\n",
       "      <td>0</td>\n",
       "      <td>31760.78</td>\n",
       "      <td>1</td>\n",
       "    </tr>\n",
       "  </tbody>\n",
       "</table>\n",
       "</div>"
      ],
      "text/plain": [
       "   CustomerID  Gender  Age  Tenure    Balance  NumOfProducts  HasCrCard  \\\n",
       "0        1001  Female   82       0  234628.86              1          1   \n",
       "1        1002    Male   38       6  110710.15              1          0   \n",
       "2        1003  Female   37       3  118320.04              3          1   \n",
       "3        1004    Male   35       1  162201.05              1          1   \n",
       "4        1005  Female   27       2  145675.66              3          0   \n",
       "\n",
       "   IsActiveMember  EstimatedSalary  Exited  \n",
       "0               0        182668.03       1  \n",
       "1               1         63794.06       0  \n",
       "2               1        140566.99       1  \n",
       "3               0        170302.01       0  \n",
       "4               0         31760.78       1  "
      ]
     },
     "execution_count": 175,
     "metadata": {},
     "output_type": "execute_result"
    }
   ],
   "source": [
    "df.head()"
   ]
  },
  {
   "cell_type": "code",
   "execution_count": 176,
   "id": "57878ad5-8024-4c4b-83dd-288f433422b6",
   "metadata": {},
   "outputs": [
    {
     "data": {
      "text/html": [
       "<div>\n",
       "<style scoped>\n",
       "    .dataframe tbody tr th:only-of-type {\n",
       "        vertical-align: middle;\n",
       "    }\n",
       "\n",
       "    .dataframe tbody tr th {\n",
       "        vertical-align: top;\n",
       "    }\n",
       "\n",
       "    .dataframe thead th {\n",
       "        text-align: right;\n",
       "    }\n",
       "</style>\n",
       "<table border=\"1\" class=\"dataframe\">\n",
       "  <thead>\n",
       "    <tr style=\"text-align: right;\">\n",
       "      <th></th>\n",
       "      <th>CustomerID</th>\n",
       "      <th>Gender</th>\n",
       "      <th>Age</th>\n",
       "      <th>Tenure</th>\n",
       "      <th>Balance</th>\n",
       "      <th>NumOfProducts</th>\n",
       "      <th>HasCrCard</th>\n",
       "      <th>IsActiveMember</th>\n",
       "      <th>EstimatedSalary</th>\n",
       "      <th>Exited</th>\n",
       "    </tr>\n",
       "  </thead>\n",
       "  <tbody>\n",
       "    <tr>\n",
       "      <th>9998</th>\n",
       "      <td>10999</td>\n",
       "      <td>Male</td>\n",
       "      <td>86</td>\n",
       "      <td>0</td>\n",
       "      <td>172424.16</td>\n",
       "      <td>1</td>\n",
       "      <td>1</td>\n",
       "      <td>1</td>\n",
       "      <td>56740.90</td>\n",
       "      <td>0</td>\n",
       "    </tr>\n",
       "    <tr>\n",
       "      <th>9999</th>\n",
       "      <td>11000</td>\n",
       "      <td>Male</td>\n",
       "      <td>19</td>\n",
       "      <td>6</td>\n",
       "      <td>239091.45</td>\n",
       "      <td>2</td>\n",
       "      <td>0</td>\n",
       "      <td>1</td>\n",
       "      <td>127214.92</td>\n",
       "      <td>0</td>\n",
       "    </tr>\n",
       "    <tr>\n",
       "      <th>10000</th>\n",
       "      <td>11001</td>\n",
       "      <td>Male</td>\n",
       "      <td>37</td>\n",
       "      <td>10</td>\n",
       "      <td>223190.97</td>\n",
       "      <td>1</td>\n",
       "      <td>0</td>\n",
       "      <td>0</td>\n",
       "      <td>195452.90</td>\n",
       "      <td>1</td>\n",
       "    </tr>\n",
       "    <tr>\n",
       "      <th>10001</th>\n",
       "      <td>11002</td>\n",
       "      <td>Male</td>\n",
       "      <td>80</td>\n",
       "      <td>2</td>\n",
       "      <td>86758.50</td>\n",
       "      <td>1</td>\n",
       "      <td>1</td>\n",
       "      <td>1</td>\n",
       "      <td>127509.14</td>\n",
       "      <td>0</td>\n",
       "    </tr>\n",
       "    <tr>\n",
       "      <th>10002</th>\n",
       "      <td>11003</td>\n",
       "      <td>Male</td>\n",
       "      <td>26</td>\n",
       "      <td>9</td>\n",
       "      <td>100033.09</td>\n",
       "      <td>2</td>\n",
       "      <td>1</td>\n",
       "      <td>0</td>\n",
       "      <td>102576.95</td>\n",
       "      <td>0</td>\n",
       "    </tr>\n",
       "  </tbody>\n",
       "</table>\n",
       "</div>"
      ],
      "text/plain": [
       "       CustomerID Gender  Age  Tenure    Balance  NumOfProducts  HasCrCard  \\\n",
       "9998        10999   Male   86       0  172424.16              1          1   \n",
       "9999        11000   Male   19       6  239091.45              2          0   \n",
       "10000       11001   Male   37      10  223190.97              1          0   \n",
       "10001       11002   Male   80       2   86758.50              1          1   \n",
       "10002       11003   Male   26       9  100033.09              2          1   \n",
       "\n",
       "       IsActiveMember  EstimatedSalary  Exited  \n",
       "9998                1         56740.90       0  \n",
       "9999                1        127214.92       0  \n",
       "10000               0        195452.90       1  \n",
       "10001               1        127509.14       0  \n",
       "10002               0        102576.95       0  "
      ]
     },
     "execution_count": 176,
     "metadata": {},
     "output_type": "execute_result"
    }
   ],
   "source": [
    "df.tail()\n"
   ]
  },
  {
   "cell_type": "markdown",
   "id": "8d56ced3-fd54-4de6-addd-8e03e454a640",
   "metadata": {},
   "source": [
    "checking for nan values in dataset"
   ]
  },
  {
   "cell_type": "code",
   "execution_count": 177,
   "id": "6b81951e-1ddd-4add-bc4a-066641a0e989",
   "metadata": {},
   "outputs": [
    {
     "name": "stdout",
     "output_type": "stream",
     "text": [
      "<class 'pandas.core.frame.DataFrame'>\n",
      "RangeIndex: 10003 entries, 0 to 10002\n",
      "Data columns (total 10 columns):\n",
      " #   Column           Non-Null Count  Dtype  \n",
      "---  ------           --------------  -----  \n",
      " 0   CustomerID       10003 non-null  int64  \n",
      " 1   Gender           10003 non-null  object \n",
      " 2   Age              10003 non-null  int64  \n",
      " 3   Tenure           10003 non-null  int64  \n",
      " 4   Balance          10003 non-null  float64\n",
      " 5   NumOfProducts    10003 non-null  int64  \n",
      " 6   HasCrCard        10003 non-null  int64  \n",
      " 7   IsActiveMember   10003 non-null  int64  \n",
      " 8   EstimatedSalary  10003 non-null  float64\n",
      " 9   Exited           10003 non-null  int64  \n",
      "dtypes: float64(2), int64(7), object(1)\n",
      "memory usage: 781.6+ KB\n"
     ]
    }
   ],
   "source": [
    "df.info()"
   ]
  },
  {
   "cell_type": "code",
   "execution_count": 178,
   "id": "e097f85d-fe01-4cf5-ae7e-3d28ec5165cd",
   "metadata": {},
   "outputs": [
    {
     "data": {
      "text/plain": [
       "0"
      ]
     },
     "execution_count": 178,
     "metadata": {},
     "output_type": "execute_result"
    }
   ],
   "source": [
    "df.isna().sum().sum()"
   ]
  },
  {
   "cell_type": "markdown",
   "id": "285529ff-b72b-4ca8-8565-0f287fbdced9",
   "metadata": {},
   "source": [
    "therefore there are no nan values. "
   ]
  },
  {
   "cell_type": "markdown",
   "id": "7713b0fa-9c42-4aae-be2d-dd1fa1413d49",
   "metadata": {},
   "source": [
    "checking for duplicates"
   ]
  },
  {
   "cell_type": "code",
   "execution_count": 179,
   "id": "4ba42546-4f3b-440d-a051-6214183d14f5",
   "metadata": {},
   "outputs": [
    {
     "data": {
      "text/plain": [
       "0"
      ]
     },
     "execution_count": 179,
     "metadata": {},
     "output_type": "execute_result"
    }
   ],
   "source": [
    "df.duplicated().sum()"
   ]
  },
  {
   "cell_type": "markdown",
   "id": "1eddb431-1b1a-4092-9398-7af7a2fadee7",
   "metadata": {},
   "source": [
    "therefor no duplicate values"
   ]
  },
  {
   "cell_type": "code",
   "execution_count": 180,
   "id": "5c714ded-4e3c-4295-9a44-a8a49e2054cd",
   "metadata": {},
   "outputs": [
    {
     "data": {
      "text/html": [
       "<div>\n",
       "<style scoped>\n",
       "    .dataframe tbody tr th:only-of-type {\n",
       "        vertical-align: middle;\n",
       "    }\n",
       "\n",
       "    .dataframe tbody tr th {\n",
       "        vertical-align: top;\n",
       "    }\n",
       "\n",
       "    .dataframe thead th {\n",
       "        text-align: right;\n",
       "    }\n",
       "</style>\n",
       "<table border=\"1\" class=\"dataframe\">\n",
       "  <thead>\n",
       "    <tr style=\"text-align: right;\">\n",
       "      <th></th>\n",
       "      <th>CustomerID</th>\n",
       "      <th>Age</th>\n",
       "      <th>Tenure</th>\n",
       "      <th>Balance</th>\n",
       "      <th>NumOfProducts</th>\n",
       "      <th>HasCrCard</th>\n",
       "      <th>IsActiveMember</th>\n",
       "      <th>EstimatedSalary</th>\n",
       "      <th>Exited</th>\n",
       "    </tr>\n",
       "  </thead>\n",
       "  <tbody>\n",
       "    <tr>\n",
       "      <th>count</th>\n",
       "      <td>10003.000000</td>\n",
       "      <td>10003.000000</td>\n",
       "      <td>10003.000000</td>\n",
       "      <td>10003.000000</td>\n",
       "      <td>10003.000000</td>\n",
       "      <td>10003.000000</td>\n",
       "      <td>10003.000000</td>\n",
       "      <td>10003.000000</td>\n",
       "      <td>10003.000000</td>\n",
       "    </tr>\n",
       "    <tr>\n",
       "      <th>mean</th>\n",
       "      <td>6002.000000</td>\n",
       "      <td>55.279516</td>\n",
       "      <td>4.979206</td>\n",
       "      <td>126179.822146</td>\n",
       "      <td>1.524243</td>\n",
       "      <td>0.703489</td>\n",
       "      <td>0.512746</td>\n",
       "      <td>100204.943104</td>\n",
       "      <td>0.199140</td>\n",
       "    </tr>\n",
       "    <tr>\n",
       "      <th>std</th>\n",
       "      <td>2887.761705</td>\n",
       "      <td>21.364053</td>\n",
       "      <td>3.149061</td>\n",
       "      <td>72510.885806</td>\n",
       "      <td>0.579327</td>\n",
       "      <td>0.456742</td>\n",
       "      <td>0.499862</td>\n",
       "      <td>57735.603578</td>\n",
       "      <td>0.399374</td>\n",
       "    </tr>\n",
       "    <tr>\n",
       "      <th>min</th>\n",
       "      <td>1001.000000</td>\n",
       "      <td>18.000000</td>\n",
       "      <td>0.000000</td>\n",
       "      <td>17.270000</td>\n",
       "      <td>1.000000</td>\n",
       "      <td>0.000000</td>\n",
       "      <td>0.000000</td>\n",
       "      <td>13.860000</td>\n",
       "      <td>0.000000</td>\n",
       "    </tr>\n",
       "    <tr>\n",
       "      <th>25%</th>\n",
       "      <td>3501.500000</td>\n",
       "      <td>37.000000</td>\n",
       "      <td>2.000000</td>\n",
       "      <td>63220.155000</td>\n",
       "      <td>1.000000</td>\n",
       "      <td>0.000000</td>\n",
       "      <td>0.000000</td>\n",
       "      <td>50556.520000</td>\n",
       "      <td>0.000000</td>\n",
       "    </tr>\n",
       "    <tr>\n",
       "      <th>50%</th>\n",
       "      <td>6002.000000</td>\n",
       "      <td>55.000000</td>\n",
       "      <td>5.000000</td>\n",
       "      <td>127373.080000</td>\n",
       "      <td>1.000000</td>\n",
       "      <td>1.000000</td>\n",
       "      <td>1.000000</td>\n",
       "      <td>100025.890000</td>\n",
       "      <td>0.000000</td>\n",
       "    </tr>\n",
       "    <tr>\n",
       "      <th>75%</th>\n",
       "      <td>8502.500000</td>\n",
       "      <td>74.000000</td>\n",
       "      <td>8.000000</td>\n",
       "      <td>188898.180000</td>\n",
       "      <td>2.000000</td>\n",
       "      <td>1.000000</td>\n",
       "      <td>1.000000</td>\n",
       "      <td>150603.340000</td>\n",
       "      <td>0.000000</td>\n",
       "    </tr>\n",
       "    <tr>\n",
       "      <th>max</th>\n",
       "      <td>11003.000000</td>\n",
       "      <td>92.000000</td>\n",
       "      <td>10.000000</td>\n",
       "      <td>250859.050000</td>\n",
       "      <td>4.000000</td>\n",
       "      <td>1.000000</td>\n",
       "      <td>1.000000</td>\n",
       "      <td>199971.860000</td>\n",
       "      <td>1.000000</td>\n",
       "    </tr>\n",
       "  </tbody>\n",
       "</table>\n",
       "</div>"
      ],
      "text/plain": [
       "         CustomerID           Age        Tenure        Balance  NumOfProducts  \\\n",
       "count  10003.000000  10003.000000  10003.000000   10003.000000   10003.000000   \n",
       "mean    6002.000000     55.279516      4.979206  126179.822146       1.524243   \n",
       "std     2887.761705     21.364053      3.149061   72510.885806       0.579327   \n",
       "min     1001.000000     18.000000      0.000000      17.270000       1.000000   \n",
       "25%     3501.500000     37.000000      2.000000   63220.155000       1.000000   \n",
       "50%     6002.000000     55.000000      5.000000  127373.080000       1.000000   \n",
       "75%     8502.500000     74.000000      8.000000  188898.180000       2.000000   \n",
       "max    11003.000000     92.000000     10.000000  250859.050000       4.000000   \n",
       "\n",
       "          HasCrCard  IsActiveMember  EstimatedSalary        Exited  \n",
       "count  10003.000000    10003.000000     10003.000000  10003.000000  \n",
       "mean       0.703489        0.512746    100204.943104      0.199140  \n",
       "std        0.456742        0.499862     57735.603578      0.399374  \n",
       "min        0.000000        0.000000        13.860000      0.000000  \n",
       "25%        0.000000        0.000000     50556.520000      0.000000  \n",
       "50%        1.000000        1.000000    100025.890000      0.000000  \n",
       "75%        1.000000        1.000000    150603.340000      0.000000  \n",
       "max        1.000000        1.000000    199971.860000      1.000000  "
      ]
     },
     "execution_count": 180,
     "metadata": {},
     "output_type": "execute_result"
    }
   ],
   "source": [
    "df.describe()"
   ]
  },
  {
   "cell_type": "markdown",
   "id": "89504c8e-53a4-4cfa-91e0-01d9538c98fa",
   "metadata": {},
   "source": [
    "obtaining corerelation"
   ]
  },
  {
   "cell_type": "code",
   "execution_count": 181,
   "id": "53544475-89ba-4370-b2b2-7d96b0ed99ec",
   "metadata": {},
   "outputs": [
    {
     "data": {
      "text/html": [
       "<div>\n",
       "<style scoped>\n",
       "    .dataframe tbody tr th:only-of-type {\n",
       "        vertical-align: middle;\n",
       "    }\n",
       "\n",
       "    .dataframe tbody tr th {\n",
       "        vertical-align: top;\n",
       "    }\n",
       "\n",
       "    .dataframe thead th {\n",
       "        text-align: right;\n",
       "    }\n",
       "</style>\n",
       "<table border=\"1\" class=\"dataframe\">\n",
       "  <thead>\n",
       "    <tr style=\"text-align: right;\">\n",
       "      <th></th>\n",
       "      <th>CustomerID</th>\n",
       "      <th>Age</th>\n",
       "      <th>Tenure</th>\n",
       "      <th>Balance</th>\n",
       "      <th>NumOfProducts</th>\n",
       "      <th>HasCrCard</th>\n",
       "      <th>IsActiveMember</th>\n",
       "      <th>EstimatedSalary</th>\n",
       "      <th>Exited</th>\n",
       "    </tr>\n",
       "  </thead>\n",
       "  <tbody>\n",
       "    <tr>\n",
       "      <th>CustomerID</th>\n",
       "      <td>1.000000</td>\n",
       "      <td>0.013117</td>\n",
       "      <td>-0.006034</td>\n",
       "      <td>-0.006908</td>\n",
       "      <td>-0.006623</td>\n",
       "      <td>0.000774</td>\n",
       "      <td>-0.002614</td>\n",
       "      <td>-0.012853</td>\n",
       "      <td>0.006325</td>\n",
       "    </tr>\n",
       "    <tr>\n",
       "      <th>Age</th>\n",
       "      <td>0.013117</td>\n",
       "      <td>1.000000</td>\n",
       "      <td>-0.012452</td>\n",
       "      <td>-0.009230</td>\n",
       "      <td>0.014655</td>\n",
       "      <td>0.008986</td>\n",
       "      <td>-0.013010</td>\n",
       "      <td>0.000797</td>\n",
       "      <td>-0.003372</td>\n",
       "    </tr>\n",
       "    <tr>\n",
       "      <th>Tenure</th>\n",
       "      <td>-0.006034</td>\n",
       "      <td>-0.012452</td>\n",
       "      <td>1.000000</td>\n",
       "      <td>-0.009116</td>\n",
       "      <td>0.006579</td>\n",
       "      <td>0.000857</td>\n",
       "      <td>-0.002690</td>\n",
       "      <td>-0.009372</td>\n",
       "      <td>0.005678</td>\n",
       "    </tr>\n",
       "    <tr>\n",
       "      <th>Balance</th>\n",
       "      <td>-0.006908</td>\n",
       "      <td>-0.009230</td>\n",
       "      <td>-0.009116</td>\n",
       "      <td>1.000000</td>\n",
       "      <td>0.006297</td>\n",
       "      <td>0.010304</td>\n",
       "      <td>0.008598</td>\n",
       "      <td>0.008078</td>\n",
       "      <td>-0.005127</td>\n",
       "    </tr>\n",
       "    <tr>\n",
       "      <th>NumOfProducts</th>\n",
       "      <td>-0.006623</td>\n",
       "      <td>0.014655</td>\n",
       "      <td>0.006579</td>\n",
       "      <td>0.006297</td>\n",
       "      <td>1.000000</td>\n",
       "      <td>-0.021574</td>\n",
       "      <td>-0.018589</td>\n",
       "      <td>0.005696</td>\n",
       "      <td>0.005924</td>\n",
       "    </tr>\n",
       "    <tr>\n",
       "      <th>HasCrCard</th>\n",
       "      <td>0.000774</td>\n",
       "      <td>0.008986</td>\n",
       "      <td>0.000857</td>\n",
       "      <td>0.010304</td>\n",
       "      <td>-0.021574</td>\n",
       "      <td>1.000000</td>\n",
       "      <td>-0.011471</td>\n",
       "      <td>0.007993</td>\n",
       "      <td>0.000356</td>\n",
       "    </tr>\n",
       "    <tr>\n",
       "      <th>IsActiveMember</th>\n",
       "      <td>-0.002614</td>\n",
       "      <td>-0.013010</td>\n",
       "      <td>-0.002690</td>\n",
       "      <td>0.008598</td>\n",
       "      <td>-0.018589</td>\n",
       "      <td>-0.011471</td>\n",
       "      <td>1.000000</td>\n",
       "      <td>-0.008928</td>\n",
       "      <td>-0.000196</td>\n",
       "    </tr>\n",
       "    <tr>\n",
       "      <th>EstimatedSalary</th>\n",
       "      <td>-0.012853</td>\n",
       "      <td>0.000797</td>\n",
       "      <td>-0.009372</td>\n",
       "      <td>0.008078</td>\n",
       "      <td>0.005696</td>\n",
       "      <td>0.007993</td>\n",
       "      <td>-0.008928</td>\n",
       "      <td>1.000000</td>\n",
       "      <td>0.019806</td>\n",
       "    </tr>\n",
       "    <tr>\n",
       "      <th>Exited</th>\n",
       "      <td>0.006325</td>\n",
       "      <td>-0.003372</td>\n",
       "      <td>0.005678</td>\n",
       "      <td>-0.005127</td>\n",
       "      <td>0.005924</td>\n",
       "      <td>0.000356</td>\n",
       "      <td>-0.000196</td>\n",
       "      <td>0.019806</td>\n",
       "      <td>1.000000</td>\n",
       "    </tr>\n",
       "  </tbody>\n",
       "</table>\n",
       "</div>"
      ],
      "text/plain": [
       "                 CustomerID       Age    Tenure   Balance  NumOfProducts  \\\n",
       "CustomerID         1.000000  0.013117 -0.006034 -0.006908      -0.006623   \n",
       "Age                0.013117  1.000000 -0.012452 -0.009230       0.014655   \n",
       "Tenure            -0.006034 -0.012452  1.000000 -0.009116       0.006579   \n",
       "Balance           -0.006908 -0.009230 -0.009116  1.000000       0.006297   \n",
       "NumOfProducts     -0.006623  0.014655  0.006579  0.006297       1.000000   \n",
       "HasCrCard          0.000774  0.008986  0.000857  0.010304      -0.021574   \n",
       "IsActiveMember    -0.002614 -0.013010 -0.002690  0.008598      -0.018589   \n",
       "EstimatedSalary   -0.012853  0.000797 -0.009372  0.008078       0.005696   \n",
       "Exited             0.006325 -0.003372  0.005678 -0.005127       0.005924   \n",
       "\n",
       "                 HasCrCard  IsActiveMember  EstimatedSalary    Exited  \n",
       "CustomerID        0.000774       -0.002614        -0.012853  0.006325  \n",
       "Age               0.008986       -0.013010         0.000797 -0.003372  \n",
       "Tenure            0.000857       -0.002690        -0.009372  0.005678  \n",
       "Balance           0.010304        0.008598         0.008078 -0.005127  \n",
       "NumOfProducts    -0.021574       -0.018589         0.005696  0.005924  \n",
       "HasCrCard         1.000000       -0.011471         0.007993  0.000356  \n",
       "IsActiveMember   -0.011471        1.000000        -0.008928 -0.000196  \n",
       "EstimatedSalary   0.007993       -0.008928         1.000000  0.019806  \n",
       "Exited            0.000356       -0.000196         0.019806  1.000000  "
      ]
     },
     "execution_count": 181,
     "metadata": {},
     "output_type": "execute_result"
    }
   ],
   "source": [
    "numeric_colums_data=df.select_dtypes(include=[\"number\"])\n",
    "numeric_colums_data.corr()"
   ]
  },
  {
   "cell_type": "code",
   "execution_count": 182,
   "id": "02600b03-146c-48e1-998e-002fce34d2d5",
   "metadata": {},
   "outputs": [
    {
     "data": {
      "text/html": [
       "<div>\n",
       "<style scoped>\n",
       "    .dataframe tbody tr th:only-of-type {\n",
       "        vertical-align: middle;\n",
       "    }\n",
       "\n",
       "    .dataframe tbody tr th {\n",
       "        vertical-align: top;\n",
       "    }\n",
       "\n",
       "    .dataframe thead th {\n",
       "        text-align: right;\n",
       "    }\n",
       "</style>\n",
       "<table border=\"1\" class=\"dataframe\">\n",
       "  <thead>\n",
       "    <tr style=\"text-align: right;\">\n",
       "      <th></th>\n",
       "      <th>CustomerID</th>\n",
       "      <th>Gender</th>\n",
       "      <th>Age</th>\n",
       "      <th>Tenure</th>\n",
       "      <th>Balance</th>\n",
       "      <th>NumOfProducts</th>\n",
       "      <th>HasCrCard</th>\n",
       "      <th>IsActiveMember</th>\n",
       "      <th>EstimatedSalary</th>\n",
       "      <th>Exited</th>\n",
       "    </tr>\n",
       "  </thead>\n",
       "  <tbody>\n",
       "    <tr>\n",
       "      <th>0</th>\n",
       "      <td>1001</td>\n",
       "      <td>Female</td>\n",
       "      <td>82</td>\n",
       "      <td>0</td>\n",
       "      <td>234628.86</td>\n",
       "      <td>1</td>\n",
       "      <td>1</td>\n",
       "      <td>0</td>\n",
       "      <td>182668.03</td>\n",
       "      <td>1</td>\n",
       "    </tr>\n",
       "    <tr>\n",
       "      <th>1</th>\n",
       "      <td>1002</td>\n",
       "      <td>Male</td>\n",
       "      <td>38</td>\n",
       "      <td>6</td>\n",
       "      <td>110710.15</td>\n",
       "      <td>1</td>\n",
       "      <td>0</td>\n",
       "      <td>1</td>\n",
       "      <td>63794.06</td>\n",
       "      <td>0</td>\n",
       "    </tr>\n",
       "    <tr>\n",
       "      <th>2</th>\n",
       "      <td>1003</td>\n",
       "      <td>Female</td>\n",
       "      <td>37</td>\n",
       "      <td>3</td>\n",
       "      <td>118320.04</td>\n",
       "      <td>3</td>\n",
       "      <td>1</td>\n",
       "      <td>1</td>\n",
       "      <td>140566.99</td>\n",
       "      <td>1</td>\n",
       "    </tr>\n",
       "    <tr>\n",
       "      <th>3</th>\n",
       "      <td>1004</td>\n",
       "      <td>Male</td>\n",
       "      <td>35</td>\n",
       "      <td>1</td>\n",
       "      <td>162201.05</td>\n",
       "      <td>1</td>\n",
       "      <td>1</td>\n",
       "      <td>0</td>\n",
       "      <td>170302.01</td>\n",
       "      <td>0</td>\n",
       "    </tr>\n",
       "    <tr>\n",
       "      <th>4</th>\n",
       "      <td>1005</td>\n",
       "      <td>Female</td>\n",
       "      <td>27</td>\n",
       "      <td>2</td>\n",
       "      <td>145675.66</td>\n",
       "      <td>3</td>\n",
       "      <td>0</td>\n",
       "      <td>0</td>\n",
       "      <td>31760.78</td>\n",
       "      <td>1</td>\n",
       "    </tr>\n",
       "    <tr>\n",
       "      <th>...</th>\n",
       "      <td>...</td>\n",
       "      <td>...</td>\n",
       "      <td>...</td>\n",
       "      <td>...</td>\n",
       "      <td>...</td>\n",
       "      <td>...</td>\n",
       "      <td>...</td>\n",
       "      <td>...</td>\n",
       "      <td>...</td>\n",
       "      <td>...</td>\n",
       "    </tr>\n",
       "    <tr>\n",
       "      <th>9998</th>\n",
       "      <td>10999</td>\n",
       "      <td>Male</td>\n",
       "      <td>86</td>\n",
       "      <td>0</td>\n",
       "      <td>172424.16</td>\n",
       "      <td>1</td>\n",
       "      <td>1</td>\n",
       "      <td>1</td>\n",
       "      <td>56740.90</td>\n",
       "      <td>0</td>\n",
       "    </tr>\n",
       "    <tr>\n",
       "      <th>9999</th>\n",
       "      <td>11000</td>\n",
       "      <td>Male</td>\n",
       "      <td>19</td>\n",
       "      <td>6</td>\n",
       "      <td>239091.45</td>\n",
       "      <td>2</td>\n",
       "      <td>0</td>\n",
       "      <td>1</td>\n",
       "      <td>127214.92</td>\n",
       "      <td>0</td>\n",
       "    </tr>\n",
       "    <tr>\n",
       "      <th>10000</th>\n",
       "      <td>11001</td>\n",
       "      <td>Male</td>\n",
       "      <td>37</td>\n",
       "      <td>10</td>\n",
       "      <td>223190.97</td>\n",
       "      <td>1</td>\n",
       "      <td>0</td>\n",
       "      <td>0</td>\n",
       "      <td>195452.90</td>\n",
       "      <td>1</td>\n",
       "    </tr>\n",
       "    <tr>\n",
       "      <th>10001</th>\n",
       "      <td>11002</td>\n",
       "      <td>Male</td>\n",
       "      <td>80</td>\n",
       "      <td>2</td>\n",
       "      <td>86758.50</td>\n",
       "      <td>1</td>\n",
       "      <td>1</td>\n",
       "      <td>1</td>\n",
       "      <td>127509.14</td>\n",
       "      <td>0</td>\n",
       "    </tr>\n",
       "    <tr>\n",
       "      <th>10002</th>\n",
       "      <td>11003</td>\n",
       "      <td>Male</td>\n",
       "      <td>26</td>\n",
       "      <td>9</td>\n",
       "      <td>100033.09</td>\n",
       "      <td>2</td>\n",
       "      <td>1</td>\n",
       "      <td>0</td>\n",
       "      <td>102576.95</td>\n",
       "      <td>0</td>\n",
       "    </tr>\n",
       "  </tbody>\n",
       "</table>\n",
       "<p>10003 rows × 10 columns</p>\n",
       "</div>"
      ],
      "text/plain": [
       "       CustomerID  Gender  Age  Tenure    Balance  NumOfProducts  HasCrCard  \\\n",
       "0            1001  Female   82       0  234628.86              1          1   \n",
       "1            1002    Male   38       6  110710.15              1          0   \n",
       "2            1003  Female   37       3  118320.04              3          1   \n",
       "3            1004    Male   35       1  162201.05              1          1   \n",
       "4            1005  Female   27       2  145675.66              3          0   \n",
       "...           ...     ...  ...     ...        ...            ...        ...   \n",
       "9998        10999    Male   86       0  172424.16              1          1   \n",
       "9999        11000    Male   19       6  239091.45              2          0   \n",
       "10000       11001    Male   37      10  223190.97              1          0   \n",
       "10001       11002    Male   80       2   86758.50              1          1   \n",
       "10002       11003    Male   26       9  100033.09              2          1   \n",
       "\n",
       "       IsActiveMember  EstimatedSalary  Exited  \n",
       "0                   0        182668.03       1  \n",
       "1                   1         63794.06       0  \n",
       "2                   1        140566.99       1  \n",
       "3                   0        170302.01       0  \n",
       "4                   0         31760.78       1  \n",
       "...               ...              ...     ...  \n",
       "9998                1         56740.90       0  \n",
       "9999                1        127214.92       0  \n",
       "10000               0        195452.90       1  \n",
       "10001               1        127509.14       0  \n",
       "10002               0        102576.95       0  \n",
       "\n",
       "[10003 rows x 10 columns]"
      ]
     },
     "execution_count": 182,
     "metadata": {},
     "output_type": "execute_result"
    }
   ],
   "source": [
    "df"
   ]
  },
  {
   "cell_type": "code",
   "execution_count": 183,
   "id": "8a001719-04cd-43cc-ac92-f40014b2d3bc",
   "metadata": {},
   "outputs": [
    {
     "data": {
      "text/plain": [
       "Exited\n",
       "0    8011\n",
       "1    1992\n",
       "Name: count, dtype: int64"
      ]
     },
     "execution_count": 183,
     "metadata": {},
     "output_type": "execute_result"
    }
   ],
   "source": [
    "df[\"Exited\"].value_counts()"
   ]
  },
  {
   "cell_type": "markdown",
   "id": "b69f452e-7b35-4abc-942d-07a925647724",
   "metadata": {},
   "source": [
    "upscaling"
   ]
  },
  {
   "cell_type": "code",
   "execution_count": 184,
   "id": "7629aa6c-9d65-422d-8563-cc4fab8c7699",
   "metadata": {},
   "outputs": [
    {
     "name": "stdout",
     "output_type": "stream",
     "text": [
      "Exited\n",
      "0    8011\n",
      "1    8011\n",
      "Name: count, dtype: int64\n"
     ]
    }
   ],
   "source": [
    "from sklearn.utils import resample\n",
    "df_majority = df[df.Exited==0]\n",
    "df_minority = df[df.Exited==1]\n",
    "df_minority_upsampled = resample(df_minority,\n",
    "                                 replace=True,    \n",
    "                                 n_samples=len(df_majority),    \n",
    "                                 random_state=123) \n",
    "df_upsampled = pd.concat([df_majority, df_minority_upsampled])\n",
    "print(df_upsampled.Exited.value_counts())"
   ]
  },
  {
   "cell_type": "code",
   "execution_count": 185,
   "id": "390c8e79-57b7-490d-bf6f-29ded3c5d819",
   "metadata": {},
   "outputs": [
    {
     "data": {
      "image/png": "[encoded data removed]",
      "text/plain": [
       "<Figure size 500x500 with 1 Axes>"
      ]
     },
     "metadata": {},
     "output_type": "display_data"
    }
   ],
   "source": [
    "churn_counts_upsampled = df_upsampled['Exited'].value_counts()\n",
    "plt.figure(figsize=(5, 5))\n",
    "plt.pie(churn_counts_upsampled, labels=churn_counts_upsampled.index, autopct='%1.1f%%', startangle=90)\n",
    "plt.title('Churn Count (0/1) for Upsampled Data')\n",
    "plt.show()"
   ]
  },
  {
   "cell_type": "code",
   "execution_count": 186,
   "id": "002c48e5-d90e-475e-9902-40a34dc93137",
   "metadata": {},
   "outputs": [
    {
     "data": {
      "text/html": [
       "<div>\n",
       "<style scoped>\n",
       "    .dataframe tbody tr th:only-of-type {\n",
       "        vertical-align: middle;\n",
       "    }\n",
       "\n",
       "    .dataframe tbody tr th {\n",
       "        vertical-align: top;\n",
       "    }\n",
       "\n",
       "    .dataframe thead th {\n",
       "        text-align: right;\n",
       "    }\n",
       "</style>\n",
       "<table border=\"1\" class=\"dataframe\">\n",
       "  <thead>\n",
       "    <tr style=\"text-align: right;\">\n",
       "      <th></th>\n",
       "      <th>CustomerID</th>\n",
       "      <th>Gender</th>\n",
       "      <th>Age</th>\n",
       "      <th>Tenure</th>\n",
       "      <th>Balance</th>\n",
       "      <th>NumOfProducts</th>\n",
       "      <th>HasCrCard</th>\n",
       "      <th>IsActiveMember</th>\n",
       "      <th>EstimatedSalary</th>\n",
       "      <th>Exited</th>\n",
       "    </tr>\n",
       "  </thead>\n",
       "  <tbody>\n",
       "    <tr>\n",
       "      <th>0</th>\n",
       "      <td>1001</td>\n",
       "      <td>Female</td>\n",
       "      <td>82</td>\n",
       "      <td>0</td>\n",
       "      <td>234628.86</td>\n",
       "      <td>1</td>\n",
       "      <td>1</td>\n",
       "      <td>0</td>\n",
       "      <td>182668.03</td>\n",
       "      <td>1</td>\n",
       "    </tr>\n",
       "    <tr>\n",
       "      <th>1</th>\n",
       "      <td>1002</td>\n",
       "      <td>Male</td>\n",
       "      <td>38</td>\n",
       "      <td>6</td>\n",
       "      <td>110710.15</td>\n",
       "      <td>1</td>\n",
       "      <td>0</td>\n",
       "      <td>1</td>\n",
       "      <td>63794.06</td>\n",
       "      <td>0</td>\n",
       "    </tr>\n",
       "    <tr>\n",
       "      <th>2</th>\n",
       "      <td>1003</td>\n",
       "      <td>Female</td>\n",
       "      <td>37</td>\n",
       "      <td>3</td>\n",
       "      <td>118320.04</td>\n",
       "      <td>3</td>\n",
       "      <td>1</td>\n",
       "      <td>1</td>\n",
       "      <td>140566.99</td>\n",
       "      <td>1</td>\n",
       "    </tr>\n",
       "    <tr>\n",
       "      <th>3</th>\n",
       "      <td>1004</td>\n",
       "      <td>Male</td>\n",
       "      <td>35</td>\n",
       "      <td>1</td>\n",
       "      <td>162201.05</td>\n",
       "      <td>1</td>\n",
       "      <td>1</td>\n",
       "      <td>0</td>\n",
       "      <td>170302.01</td>\n",
       "      <td>0</td>\n",
       "    </tr>\n",
       "    <tr>\n",
       "      <th>4</th>\n",
       "      <td>1005</td>\n",
       "      <td>Female</td>\n",
       "      <td>27</td>\n",
       "      <td>2</td>\n",
       "      <td>145675.66</td>\n",
       "      <td>3</td>\n",
       "      <td>0</td>\n",
       "      <td>0</td>\n",
       "      <td>31760.78</td>\n",
       "      <td>1</td>\n",
       "    </tr>\n",
       "  </tbody>\n",
       "</table>\n",
       "</div>"
      ],
      "text/plain": [
       "   CustomerID  Gender  Age  Tenure    Balance  NumOfProducts  HasCrCard  \\\n",
       "0        1001  Female   82       0  234628.86              1          1   \n",
       "1        1002    Male   38       6  110710.15              1          0   \n",
       "2        1003  Female   37       3  118320.04              3          1   \n",
       "3        1004    Male   35       1  162201.05              1          1   \n",
       "4        1005  Female   27       2  145675.66              3          0   \n",
       "\n",
       "   IsActiveMember  EstimatedSalary  Exited  \n",
       "0               0        182668.03       1  \n",
       "1               1         63794.06       0  \n",
       "2               1        140566.99       1  \n",
       "3               0        170302.01       0  \n",
       "4               0         31760.78       1  "
      ]
     },
     "execution_count": 186,
     "metadata": {},
     "output_type": "execute_result"
    }
   ],
   "source": [
    "df.head()"
   ]
  },
  {
   "cell_type": "code",
   "execution_count": 187,
   "id": "f20aaa33-076e-49ae-b08c-70712c741536",
   "metadata": {},
   "outputs": [
    {
     "data": {
      "text/plain": [
       "Exited\n",
       "0    126365.211178\n",
       "1    124517.554268\n",
       "Name: Balance, dtype: float64"
      ]
     },
     "execution_count": 187,
     "metadata": {},
     "output_type": "execute_result"
    }
   ],
   "source": [
    "df_upsampled.groupby('Exited')['Balance'].mean()"
   ]
  },
  {
   "cell_type": "code",
   "execution_count": 188,
   "id": "23ac0b6a-945e-44d2-8cf9-719084de0792",
   "metadata": {},
   "outputs": [
    {
     "data": {
      "text/plain": [
       "Exited  Gender\n",
       "0       Female    125370.416634\n",
       "        Male      127198.237528\n",
       "1       Female    126021.843367\n",
       "        Male      123308.296875\n",
       "Name: Balance, dtype: float64"
      ]
     },
     "execution_count": 188,
     "metadata": {},
     "output_type": "execute_result"
    }
   ],
   "source": [
    "df_upsampled.groupby(['Exited','Gender'])['Balance'].mean()"
   ]
  },
  {
   "cell_type": "code",
   "execution_count": 189,
   "id": "6782dbbb-23c7-45ba-8626-a47f263c7959",
   "metadata": {},
   "outputs": [
    {
     "data": {
      "text/plain": [
       "Exited\n",
       "0    4.970291\n",
       "1    4.960929\n",
       "Name: Tenure, dtype: float64"
      ]
     },
     "execution_count": 189,
     "metadata": {},
     "output_type": "execute_result"
    }
   ],
   "source": [
    "df_upsampled.groupby('Exited')['Tenure'].mean()"
   ]
  },
  {
   "cell_type": "code",
   "execution_count": 190,
   "id": "f526adcb-7a40-4c74-b6c2-63f42ad8466d",
   "metadata": {},
   "outputs": [
    {
     "data": {
      "text/plain": [
       "Exited\n",
       "0    55.315441\n",
       "1    54.749719\n",
       "Name: Age, dtype: float64"
      ]
     },
     "execution_count": 190,
     "metadata": {},
     "output_type": "execute_result"
    }
   ],
   "source": [
    "df_upsampled.groupby('Exited')['Age'].mean()"
   ]
  },
  {
   "cell_type": "code",
   "execution_count": 191,
   "id": "7fefa611-1baf-4635-840b-a439365bf2a2",
   "metadata": {},
   "outputs": [
    {
     "name": "stdout",
     "output_type": "stream",
     "text": [
      "Exited\n",
      "0     99634.739392\n",
      "1    102929.532564\n",
      "Name: EstimatedSalary, dtype: float64\n"
     ]
    }
   ],
   "source": [
    "print(df_upsampled.groupby('Exited')['EstimatedSalary'].mean())"
   ]
  },
  {
   "cell_type": "code",
   "execution_count": 192,
   "id": "5c21f07f-3906-4c71-a01e-4d64f72402c3",
   "metadata": {},
   "outputs": [
    {
     "data": {
      "image/png": "[encoded data removed]",
      "text/plain": [
       "<Figure size 640x480 with 1 Axes>"
      ]
     },
     "metadata": {},
     "output_type": "display_data"
    }
   ],
   "source": [
    "df_upsampled.groupby(\"Exited\")[\"EstimatedSalary\"].mean().plot(kind=\"bar\")\n",
    "plt.title(\"EstimatedSalary\")\n",
    "plt.xlabel(\"Exited\")\n",
    "plt.ylabel(\"Average Estimated Salary\")\n",
    "plt.show()"
   ]
  },
  {
   "cell_type": "markdown",
   "id": "51b35afb-9c82-49a5-8cf0-3b88660aa6b3",
   "metadata": {},
   "source": [
    "feature engineering"
   ]
  },
  {
   "cell_type": "code",
   "execution_count": 193,
   "id": "a4585c80-ddeb-4c74-abe6-8f68251348a1",
   "metadata": {},
   "outputs": [
    {
     "data": {
      "text/plain": [
       "Index(['CustomerID', 'Gender', 'Age', 'Tenure', 'Balance', 'NumOfProducts',\n",
       "       'HasCrCard', 'IsActiveMember', 'EstimatedSalary', 'Exited'],\n",
       "      dtype='object')"
      ]
     },
     "execution_count": 193,
     "metadata": {},
     "output_type": "execute_result"
    }
   ],
   "source": [
    "df.columns"
   ]
  },
  {
   "cell_type": "code",
   "execution_count": 194,
   "id": "89398c0c-143d-49b9-973e-8e0c6bdbf0e0",
   "metadata": {},
   "outputs": [],
   "source": [
    "# Fix 1: Use the upsampled dataset for feature engineering\n",
    "y_upsampled = df_upsampled[[\"Exited\"]]\n",
    "x_upsampled = df_upsampled[[\"CustomerID\",\"Age\",\"Gender\",\"Tenure\",\"Balance\",\"NumOfProducts\",\"HasCrCard\",\"IsActiveMember\",\"EstimatedSalary\"]].copy()"
   ]
  },
  {
   "cell_type": "code",
   "execution_count": 195,
   "id": "23cc0e56-55e9-4eff-9147-e4c9dadb7a66",
   "metadata": {},
   "outputs": [
    {
     "data": {
      "text/html": [
       "<div>\n",
       "<style scoped>\n",
       "    .dataframe tbody tr th:only-of-type {\n",
       "        vertical-align: middle;\n",
       "    }\n",
       "\n",
       "    .dataframe tbody tr th {\n",
       "        vertical-align: top;\n",
       "    }\n",
       "\n",
       "    .dataframe thead th {\n",
       "        text-align: right;\n",
       "    }\n",
       "</style>\n",
       "<table border=\"1\" class=\"dataframe\">\n",
       "  <thead>\n",
       "    <tr style=\"text-align: right;\">\n",
       "      <th></th>\n",
       "      <th>CustomerID</th>\n",
       "      <th>Age</th>\n",
       "      <th>Gender</th>\n",
       "      <th>Tenure</th>\n",
       "      <th>Balance</th>\n",
       "      <th>NumOfProducts</th>\n",
       "      <th>HasCrCard</th>\n",
       "      <th>IsActiveMember</th>\n",
       "      <th>EstimatedSalary</th>\n",
       "    </tr>\n",
       "  </thead>\n",
       "  <tbody>\n",
       "    <tr>\n",
       "      <th>1</th>\n",
       "      <td>1002</td>\n",
       "      <td>38</td>\n",
       "      <td>Male</td>\n",
       "      <td>6</td>\n",
       "      <td>110710.15</td>\n",
       "      <td>1</td>\n",
       "      <td>0</td>\n",
       "      <td>1</td>\n",
       "      <td>63794.06</td>\n",
       "    </tr>\n",
       "    <tr>\n",
       "      <th>3</th>\n",
       "      <td>1004</td>\n",
       "      <td>35</td>\n",
       "      <td>Male</td>\n",
       "      <td>1</td>\n",
       "      <td>162201.05</td>\n",
       "      <td>1</td>\n",
       "      <td>1</td>\n",
       "      <td>0</td>\n",
       "      <td>170302.01</td>\n",
       "    </tr>\n",
       "    <tr>\n",
       "      <th>6</th>\n",
       "      <td>1007</td>\n",
       "      <td>55</td>\n",
       "      <td>Male</td>\n",
       "      <td>9</td>\n",
       "      <td>182544.43</td>\n",
       "      <td>2</td>\n",
       "      <td>0</td>\n",
       "      <td>0</td>\n",
       "      <td>6280.89</td>\n",
       "    </tr>\n",
       "    <tr>\n",
       "      <th>7</th>\n",
       "      <td>1008</td>\n",
       "      <td>77</td>\n",
       "      <td>Male</td>\n",
       "      <td>10</td>\n",
       "      <td>175770.88</td>\n",
       "      <td>2</td>\n",
       "      <td>1</td>\n",
       "      <td>0</td>\n",
       "      <td>30439.43</td>\n",
       "    </tr>\n",
       "    <tr>\n",
       "      <th>9</th>\n",
       "      <td>1010</td>\n",
       "      <td>87</td>\n",
       "      <td>Female</td>\n",
       "      <td>4</td>\n",
       "      <td>229827.56</td>\n",
       "      <td>1</td>\n",
       "      <td>1</td>\n",
       "      <td>0</td>\n",
       "      <td>27797.69</td>\n",
       "    </tr>\n",
       "    <tr>\n",
       "      <th>...</th>\n",
       "      <td>...</td>\n",
       "      <td>...</td>\n",
       "      <td>...</td>\n",
       "      <td>...</td>\n",
       "      <td>...</td>\n",
       "      <td>...</td>\n",
       "      <td>...</td>\n",
       "      <td>...</td>\n",
       "      <td>...</td>\n",
       "    </tr>\n",
       "    <tr>\n",
       "      <th>3546</th>\n",
       "      <td>4547</td>\n",
       "      <td>49</td>\n",
       "      <td>Male</td>\n",
       "      <td>2</td>\n",
       "      <td>40422.39</td>\n",
       "      <td>1</td>\n",
       "      <td>1</td>\n",
       "      <td>1</td>\n",
       "      <td>47416.60</td>\n",
       "    </tr>\n",
       "    <tr>\n",
       "      <th>6609</th>\n",
       "      <td>7610</td>\n",
       "      <td>51</td>\n",
       "      <td>Male</td>\n",
       "      <td>8</td>\n",
       "      <td>43542.02</td>\n",
       "      <td>1</td>\n",
       "      <td>0</td>\n",
       "      <td>1</td>\n",
       "      <td>136727.50</td>\n",
       "    </tr>\n",
       "    <tr>\n",
       "      <th>15</th>\n",
       "      <td>1016</td>\n",
       "      <td>63</td>\n",
       "      <td>Female</td>\n",
       "      <td>6</td>\n",
       "      <td>208685.60</td>\n",
       "      <td>2</td>\n",
       "      <td>1</td>\n",
       "      <td>0</td>\n",
       "      <td>176224.36</td>\n",
       "    </tr>\n",
       "    <tr>\n",
       "      <th>634</th>\n",
       "      <td>1635</td>\n",
       "      <td>67</td>\n",
       "      <td>Male</td>\n",
       "      <td>1</td>\n",
       "      <td>164886.81</td>\n",
       "      <td>2</td>\n",
       "      <td>1</td>\n",
       "      <td>0</td>\n",
       "      <td>137451.63</td>\n",
       "    </tr>\n",
       "    <tr>\n",
       "      <th>5784</th>\n",
       "      <td>6785</td>\n",
       "      <td>32</td>\n",
       "      <td>Male</td>\n",
       "      <td>8</td>\n",
       "      <td>14450.57</td>\n",
       "      <td>1</td>\n",
       "      <td>0</td>\n",
       "      <td>0</td>\n",
       "      <td>121138.68</td>\n",
       "    </tr>\n",
       "  </tbody>\n",
       "</table>\n",
       "<p>16022 rows × 9 columns</p>\n",
       "</div>"
      ],
      "text/plain": [
       "      CustomerID  Age  Gender  Tenure    Balance  NumOfProducts  HasCrCard  \\\n",
       "1           1002   38    Male       6  110710.15              1          0   \n",
       "3           1004   35    Male       1  162201.05              1          1   \n",
       "6           1007   55    Male       9  182544.43              2          0   \n",
       "7           1008   77    Male      10  175770.88              2          1   \n",
       "9           1010   87  Female       4  229827.56              1          1   \n",
       "...          ...  ...     ...     ...        ...            ...        ...   \n",
       "3546        4547   49    Male       2   40422.39              1          1   \n",
       "6609        7610   51    Male       8   43542.02              1          0   \n",
       "15          1016   63  Female       6  208685.60              2          1   \n",
       "634         1635   67    Male       1  164886.81              2          1   \n",
       "5784        6785   32    Male       8   14450.57              1          0   \n",
       "\n",
       "      IsActiveMember  EstimatedSalary  \n",
       "1                  1         63794.06  \n",
       "3                  0        170302.01  \n",
       "6                  0          6280.89  \n",
       "7                  0         30439.43  \n",
       "9                  0         27797.69  \n",
       "...              ...              ...  \n",
       "3546               1         47416.60  \n",
       "6609               1        136727.50  \n",
       "15                 0        176224.36  \n",
       "634                0        137451.63  \n",
       "5784               0        121138.68  \n",
       "\n",
       "[16022 rows x 9 columns]"
      ]
     },
     "execution_count": 195,
     "metadata": {},
     "output_type": "execute_result"
    }
   ],
   "source": [
    "x_upsampled"
   ]
  },
  {
   "cell_type": "code",
   "execution_count": 196,
   "id": "f20b76c4-ea06-41e6-ac7a-cfa83b384782",
   "metadata": {},
   "outputs": [
    {
     "data": {
      "text/html": [
       "<div>\n",
       "<style scoped>\n",
       "    .dataframe tbody tr th:only-of-type {\n",
       "        vertical-align: middle;\n",
       "    }\n",
       "\n",
       "    .dataframe tbody tr th {\n",
       "        vertical-align: top;\n",
       "    }\n",
       "\n",
       "    .dataframe thead th {\n",
       "        text-align: right;\n",
       "    }\n",
       "</style>\n",
       "<table border=\"1\" class=\"dataframe\">\n",
       "  <thead>\n",
       "    <tr style=\"text-align: right;\">\n",
       "      <th></th>\n",
       "      <th>Exited</th>\n",
       "    </tr>\n",
       "  </thead>\n",
       "  <tbody>\n",
       "    <tr>\n",
       "      <th>1</th>\n",
       "      <td>0</td>\n",
       "    </tr>\n",
       "    <tr>\n",
       "      <th>3</th>\n",
       "      <td>0</td>\n",
       "    </tr>\n",
       "    <tr>\n",
       "      <th>6</th>\n",
       "      <td>0</td>\n",
       "    </tr>\n",
       "    <tr>\n",
       "      <th>7</th>\n",
       "      <td>0</td>\n",
       "    </tr>\n",
       "    <tr>\n",
       "      <th>9</th>\n",
       "      <td>0</td>\n",
       "    </tr>\n",
       "    <tr>\n",
       "      <th>...</th>\n",
       "      <td>...</td>\n",
       "    </tr>\n",
       "    <tr>\n",
       "      <th>3546</th>\n",
       "      <td>1</td>\n",
       "    </tr>\n",
       "    <tr>\n",
       "      <th>6609</th>\n",
       "      <td>1</td>\n",
       "    </tr>\n",
       "    <tr>\n",
       "      <th>15</th>\n",
       "      <td>1</td>\n",
       "    </tr>\n",
       "    <tr>\n",
       "      <th>634</th>\n",
       "      <td>1</td>\n",
       "    </tr>\n",
       "    <tr>\n",
       "      <th>5784</th>\n",
       "      <td>1</td>\n",
       "    </tr>\n",
       "  </tbody>\n",
       "</table>\n",
       "<p>16022 rows × 1 columns</p>\n",
       "</div>"
      ],
      "text/plain": [
       "      Exited\n",
       "1          0\n",
       "3          0\n",
       "6          0\n",
       "7          0\n",
       "9          0\n",
       "...      ...\n",
       "3546       1\n",
       "6609       1\n",
       "15         1\n",
       "634        1\n",
       "5784       1\n",
       "\n",
       "[16022 rows x 1 columns]"
      ]
     },
     "execution_count": 196,
     "metadata": {},
     "output_type": "execute_result"
    }
   ],
   "source": [
    "y_upsampled"
   ]
  },
  {
   "cell_type": "code",
   "execution_count": 197,
   "id": "3405a54e-f130-40f0-a224-e95c74f6b624",
   "metadata": {},
   "outputs": [
    {
     "data": {
      "text/html": [
       "<div>\n",
       "<style scoped>\n",
       "    .dataframe tbody tr th:only-of-type {\n",
       "        vertical-align: middle;\n",
       "    }\n",
       "\n",
       "    .dataframe tbody tr th {\n",
       "        vertical-align: top;\n",
       "    }\n",
       "\n",
       "    .dataframe thead th {\n",
       "        text-align: right;\n",
       "    }\n",
       "</style>\n",
       "<table border=\"1\" class=\"dataframe\">\n",
       "  <thead>\n",
       "    <tr style=\"text-align: right;\">\n",
       "      <th></th>\n",
       "      <th>CustomerID</th>\n",
       "      <th>Gender</th>\n",
       "      <th>Age</th>\n",
       "      <th>Tenure</th>\n",
       "      <th>Balance</th>\n",
       "      <th>NumOfProducts</th>\n",
       "      <th>HasCrCard</th>\n",
       "      <th>IsActiveMember</th>\n",
       "      <th>EstimatedSalary</th>\n",
       "      <th>Exited</th>\n",
       "    </tr>\n",
       "  </thead>\n",
       "  <tbody>\n",
       "    <tr>\n",
       "      <th>0</th>\n",
       "      <td>1001</td>\n",
       "      <td>Female</td>\n",
       "      <td>82</td>\n",
       "      <td>0</td>\n",
       "      <td>234628.86</td>\n",
       "      <td>1</td>\n",
       "      <td>1</td>\n",
       "      <td>0</td>\n",
       "      <td>182668.03</td>\n",
       "      <td>1</td>\n",
       "    </tr>\n",
       "    <tr>\n",
       "      <th>1</th>\n",
       "      <td>1002</td>\n",
       "      <td>Male</td>\n",
       "      <td>38</td>\n",
       "      <td>6</td>\n",
       "      <td>110710.15</td>\n",
       "      <td>1</td>\n",
       "      <td>0</td>\n",
       "      <td>1</td>\n",
       "      <td>63794.06</td>\n",
       "      <td>0</td>\n",
       "    </tr>\n",
       "    <tr>\n",
       "      <th>2</th>\n",
       "      <td>1003</td>\n",
       "      <td>Female</td>\n",
       "      <td>37</td>\n",
       "      <td>3</td>\n",
       "      <td>118320.04</td>\n",
       "      <td>3</td>\n",
       "      <td>1</td>\n",
       "      <td>1</td>\n",
       "      <td>140566.99</td>\n",
       "      <td>1</td>\n",
       "    </tr>\n",
       "    <tr>\n",
       "      <th>3</th>\n",
       "      <td>1004</td>\n",
       "      <td>Male</td>\n",
       "      <td>35</td>\n",
       "      <td>1</td>\n",
       "      <td>162201.05</td>\n",
       "      <td>1</td>\n",
       "      <td>1</td>\n",
       "      <td>0</td>\n",
       "      <td>170302.01</td>\n",
       "      <td>0</td>\n",
       "    </tr>\n",
       "    <tr>\n",
       "      <th>4</th>\n",
       "      <td>1005</td>\n",
       "      <td>Female</td>\n",
       "      <td>27</td>\n",
       "      <td>2</td>\n",
       "      <td>145675.66</td>\n",
       "      <td>3</td>\n",
       "      <td>0</td>\n",
       "      <td>0</td>\n",
       "      <td>31760.78</td>\n",
       "      <td>1</td>\n",
       "    </tr>\n",
       "  </tbody>\n",
       "</table>\n",
       "</div>"
      ],
      "text/plain": [
       "   CustomerID  Gender  Age  Tenure    Balance  NumOfProducts  HasCrCard  \\\n",
       "0        1001  Female   82       0  234628.86              1          1   \n",
       "1        1002    Male   38       6  110710.15              1          0   \n",
       "2        1003  Female   37       3  118320.04              3          1   \n",
       "3        1004    Male   35       1  162201.05              1          1   \n",
       "4        1005  Female   27       2  145675.66              3          0   \n",
       "\n",
       "   IsActiveMember  EstimatedSalary  Exited  \n",
       "0               0        182668.03       1  \n",
       "1               1         63794.06       0  \n",
       "2               1        140566.99       1  \n",
       "3               0        170302.01       0  \n",
       "4               0         31760.78       1  "
      ]
     },
     "execution_count": 197,
     "metadata": {},
     "output_type": "execute_result"
    }
   ],
   "source": [
    "df.head()"
   ]
  },
  {
   "cell_type": "code",
   "execution_count": 198,
   "id": "684889eb-4512-4c91-90ba-1dd982c5c5b6",
   "metadata": {},
   "outputs": [],
   "source": [
    "# Fix 2: Apply gender encoding to upsampled data\n",
    "x_upsampled[\"Gender\"] = x_upsampled[\"Gender\"].map({\"Female\": 1, \"Male\": 0})"
   ]
  },
  {
   "cell_type": "code",
   "execution_count": 199,
   "id": "7b61f01e-90df-4c80-98cc-57ee3f25fe5c",
   "metadata": {},
   "outputs": [
    {
     "data": {
      "text/html": [
       "<div>\n",
       "<style scoped>\n",
       "    .dataframe tbody tr th:only-of-type {\n",
       "        vertical-align: middle;\n",
       "    }\n",
       "\n",
       "    .dataframe tbody tr th {\n",
       "        vertical-align: top;\n",
       "    }\n",
       "\n",
       "    .dataframe thead th {\n",
       "        text-align: right;\n",
       "    }\n",
       "</style>\n",
       "<table border=\"1\" class=\"dataframe\">\n",
       "  <thead>\n",
       "    <tr style=\"text-align: right;\">\n",
       "      <th></th>\n",
       "      <th>Exited</th>\n",
       "    </tr>\n",
       "  </thead>\n",
       "  <tbody>\n",
       "    <tr>\n",
       "      <th>1</th>\n",
       "      <td>0</td>\n",
       "    </tr>\n",
       "    <tr>\n",
       "      <th>3</th>\n",
       "      <td>0</td>\n",
       "    </tr>\n",
       "    <tr>\n",
       "      <th>6</th>\n",
       "      <td>0</td>\n",
       "    </tr>\n",
       "    <tr>\n",
       "      <th>7</th>\n",
       "      <td>0</td>\n",
       "    </tr>\n",
       "    <tr>\n",
       "      <th>9</th>\n",
       "      <td>0</td>\n",
       "    </tr>\n",
       "    <tr>\n",
       "      <th>...</th>\n",
       "      <td>...</td>\n",
       "    </tr>\n",
       "    <tr>\n",
       "      <th>3546</th>\n",
       "      <td>1</td>\n",
       "    </tr>\n",
       "    <tr>\n",
       "      <th>6609</th>\n",
       "      <td>1</td>\n",
       "    </tr>\n",
       "    <tr>\n",
       "      <th>15</th>\n",
       "      <td>1</td>\n",
       "    </tr>\n",
       "    <tr>\n",
       "      <th>634</th>\n",
       "      <td>1</td>\n",
       "    </tr>\n",
       "    <tr>\n",
       "      <th>5784</th>\n",
       "      <td>1</td>\n",
       "    </tr>\n",
       "  </tbody>\n",
       "</table>\n",
       "<p>16022 rows × 1 columns</p>\n",
       "</div>"
      ],
      "text/plain": [
       "      Exited\n",
       "1          0\n",
       "3          0\n",
       "6          0\n",
       "7          0\n",
       "9          0\n",
       "...      ...\n",
       "3546       1\n",
       "6609       1\n",
       "15         1\n",
       "634        1\n",
       "5784       1\n",
       "\n",
       "[16022 rows x 1 columns]"
      ]
     },
     "execution_count": 199,
     "metadata": {},
     "output_type": "execute_result"
    }
   ],
   "source": [
    "y_upsampled"
   ]
  },
  {
   "cell_type": "code",
   "execution_count": 200,
   "id": "d951bf34-1eea-4d5b-bb85-1cec66a9e2a2",
   "metadata": {},
   "outputs": [
    {
     "data": {
      "text/plain": [
       "array([0, 1], dtype=int64)"
      ]
     },
     "execution_count": 200,
     "metadata": {},
     "output_type": "execute_result"
    }
   ],
   "source": [
    "x_upsampled[\"Gender\"].unique()"
   ]
  },
  {
   "cell_type": "code",
   "execution_count": 201,
   "id": "8f1a621b-edf2-4d6d-a58d-7b200872b115",
   "metadata": {},
   "outputs": [
    {
     "data": {
      "text/html": [
       "<div>\n",
       "<style scoped>\n",
       "    .dataframe tbody tr th:only-of-type {\n",
       "        vertical-align: middle;\n",
       "    }\n",
       "\n",
       "    .dataframe tbody tr th {\n",
       "        vertical-align: top;\n",
       "    }\n",
       "\n",
       "    .dataframe thead th {\n",
       "        text-align: right;\n",
       "    }\n",
       "</style>\n",
       "<table border=\"1\" class=\"dataframe\">\n",
       "  <thead>\n",
       "    <tr style=\"text-align: right;\">\n",
       "      <th></th>\n",
       "      <th>CustomerID</th>\n",
       "      <th>Age</th>\n",
       "      <th>Gender</th>\n",
       "      <th>Tenure</th>\n",
       "      <th>Balance</th>\n",
       "      <th>NumOfProducts</th>\n",
       "      <th>HasCrCard</th>\n",
       "      <th>IsActiveMember</th>\n",
       "      <th>EstimatedSalary</th>\n",
       "    </tr>\n",
       "  </thead>\n",
       "  <tbody>\n",
       "    <tr>\n",
       "      <th>1</th>\n",
       "      <td>1002</td>\n",
       "      <td>38</td>\n",
       "      <td>0</td>\n",
       "      <td>6</td>\n",
       "      <td>110710.15</td>\n",
       "      <td>1</td>\n",
       "      <td>0</td>\n",
       "      <td>1</td>\n",
       "      <td>63794.06</td>\n",
       "    </tr>\n",
       "    <tr>\n",
       "      <th>3</th>\n",
       "      <td>1004</td>\n",
       "      <td>35</td>\n",
       "      <td>0</td>\n",
       "      <td>1</td>\n",
       "      <td>162201.05</td>\n",
       "      <td>1</td>\n",
       "      <td>1</td>\n",
       "      <td>0</td>\n",
       "      <td>170302.01</td>\n",
       "    </tr>\n",
       "    <tr>\n",
       "      <th>6</th>\n",
       "      <td>1007</td>\n",
       "      <td>55</td>\n",
       "      <td>0</td>\n",
       "      <td>9</td>\n",
       "      <td>182544.43</td>\n",
       "      <td>2</td>\n",
       "      <td>0</td>\n",
       "      <td>0</td>\n",
       "      <td>6280.89</td>\n",
       "    </tr>\n",
       "    <tr>\n",
       "      <th>7</th>\n",
       "      <td>1008</td>\n",
       "      <td>77</td>\n",
       "      <td>0</td>\n",
       "      <td>10</td>\n",
       "      <td>175770.88</td>\n",
       "      <td>2</td>\n",
       "      <td>1</td>\n",
       "      <td>0</td>\n",
       "      <td>30439.43</td>\n",
       "    </tr>\n",
       "    <tr>\n",
       "      <th>9</th>\n",
       "      <td>1010</td>\n",
       "      <td>87</td>\n",
       "      <td>1</td>\n",
       "      <td>4</td>\n",
       "      <td>229827.56</td>\n",
       "      <td>1</td>\n",
       "      <td>1</td>\n",
       "      <td>0</td>\n",
       "      <td>27797.69</td>\n",
       "    </tr>\n",
       "  </tbody>\n",
       "</table>\n",
       "</div>"
      ],
      "text/plain": [
       "   CustomerID  Age  Gender  Tenure    Balance  NumOfProducts  HasCrCard  \\\n",
       "1        1002   38       0       6  110710.15              1          0   \n",
       "3        1004   35       0       1  162201.05              1          1   \n",
       "6        1007   55       0       9  182544.43              2          0   \n",
       "7        1008   77       0      10  175770.88              2          1   \n",
       "9        1010   87       1       4  229827.56              1          1   \n",
       "\n",
       "   IsActiveMember  EstimatedSalary  \n",
       "1               1         63794.06  \n",
       "3               0        170302.01  \n",
       "6               0          6280.89  \n",
       "7               0         30439.43  \n",
       "9               0         27797.69  "
      ]
     },
     "execution_count": 201,
     "metadata": {},
     "output_type": "execute_result"
    }
   ],
   "source": [
    "x_upsampled.head()"
   ]
  },
  {
   "cell_type": "code",
   "execution_count": 202,
   "id": "d164c08b-90f5-4f85-9d99-fe68c6c133ba",
   "metadata": {},
   "outputs": [
    {
     "data": {
      "text/plain": [
       "numpy.int64"
      ]
     },
     "execution_count": 202,
     "metadata": {},
     "output_type": "execute_result"
    }
   ],
   "source": [
    "type(x_upsampled[\"Gender\"].iloc[0])\n"
   ]
  },
  {
   "cell_type": "code",
   "execution_count": 203,
   "id": "d43f1056-2737-48a2-8b0d-532346dd0722",
   "metadata": {},
   "outputs": [
    {
     "data": {
      "text/plain": [
       "numpy.int64"
      ]
     },
     "execution_count": 203,
     "metadata": {},
     "output_type": "execute_result"
    }
   ],
   "source": [
    "type(y_upsampled[\"Exited\"].iloc[0])"
   ]
  },
  {
   "cell_type": "markdown",
   "id": "ab7e24e8-bb12-44b3-b636-3d59e41aa211",
   "metadata": {},
   "source": [
    "train test split"
   ]
  },
  {
   "cell_type": "code",
   "execution_count": 204,
   "id": "783d238c-b5a2-4e8c-a6bd-af1329ba0854",
   "metadata": {},
   "outputs": [],
   "source": [
    "# Fix 3: Use upsampled data for train-test split\n",
    "from sklearn.model_selection import train_test_split\n",
    "x_train, x_test, y_train, y_test = train_test_split(x_upsampled, y_upsampled, test_size=0.2, random_state=42, stratify=y_upsampled)"
   ]
  },
  {
   "cell_type": "code",
   "execution_count": 205,
   "id": "87f3c84a-97b5-4c96-b3bb-6dd10d076306",
   "metadata": {},
   "outputs": [
    {
     "data": {
      "text/plain": [
       "['scaler.pkl']"
      ]
     },
     "execution_count": 205,
     "metadata": {},
     "output_type": "execute_result"
    }
   ],
   "source": [
    "# Continue with scaling as before\n",
    "from sklearn.preprocessing import StandardScaler\n",
    "scaler = StandardScaler()\n",
    "x_train = scaler.fit_transform(x_train)\n",
    "x_test = scaler.transform(x_test)\n",
    "\n",
    "# Save scaler\n",
    "import joblib\n",
    "joblib.dump(scaler, \"scaler.pkl\")"
   ]
  },
  {
   "cell_type": "code",
   "execution_count": null,
   "id": "b99e0b78-c5bb-4dcd-8947-0c6d0109a0ba",
   "metadata": {},
   "outputs": [],
   "source": []
  },
  {
   "cell_type": "code",
   "execution_count": 206,
   "id": "08405591-a338-4038-af7b-094a567b4056",
   "metadata": {},
   "outputs": [
    {
     "data": {
      "text/plain": [
       "array([[ 1.38520025, -0.28681393,  1.1075739 , ..., -1.52387259,\n",
       "        -1.0074397 , -1.56093158],\n",
       "       [-1.31463157, -0.9920012 ,  1.1075739 , ..., -1.52387259,\n",
       "        -1.0074397 ,  1.48262448],\n",
       "       [ 0.87717478, -1.74420095,  1.1075739 , ...,  0.65622284,\n",
       "        -1.0074397 ,  0.49155253],\n",
       "       ...,\n",
       "       [-0.34470219,  0.74746072,  1.1075739 , ..., -1.52387259,\n",
       "         0.99261524,  0.75694167],\n",
       "       [-0.92948218, -0.89797623,  1.1075739 , ..., -1.52387259,\n",
       "         0.99261524,  1.70761681],\n",
       "       [-1.27849155,  0.70044824,  1.1075739 , ...,  0.65622284,\n",
       "        -1.0074397 , -0.36342206]])"
      ]
     },
     "execution_count": 206,
     "metadata": {},
     "output_type": "execute_result"
    }
   ],
   "source": [
    "x_train"
   ]
  },
  {
   "cell_type": "code",
   "execution_count": 207,
   "id": "c03910c1-d4db-430f-8458-9b8f03610e95",
   "metadata": {},
   "outputs": [
    {
     "data": {
      "text/plain": [
       "array([[ 0.29962279,  1.17057308,  1.1075739 , ...,  0.65622284,\n",
       "        -1.0074397 ,  0.12435789],\n",
       "       [ 1.05202366, -1.22706362, -0.90287429, ..., -1.52387259,\n",
       "        -1.0074397 ,  0.96470646],\n",
       "       [ 0.84826276,  1.02953563, -0.90287429, ..., -1.52387259,\n",
       "        -1.0074397 , -1.29332082],\n",
       "       ...,\n",
       "       [-0.97594793,  0.08928594, -0.90287429, ...,  0.65622284,\n",
       "         0.99261524,  0.56036163],\n",
       "       [ 0.6066409 , -0.42785139, -0.90287429, ...,  0.65622284,\n",
       "         0.99261524, -1.61017401],\n",
       "       [ 1.70564179, -0.05175151,  1.1075739 , ...,  0.65622284,\n",
       "         0.99261524, -0.66833158]])"
      ]
     },
     "execution_count": 207,
     "metadata": {},
     "output_type": "execute_result"
    }
   ],
   "source": [
    "x_test"
   ]
  },
  {
   "cell_type": "code",
   "execution_count": 208,
   "id": "364a2818-68d7-4baa-94f1-cae909421b3e",
   "metadata": {},
   "outputs": [],
   "source": [
    "from sklearn.metrics import accuracy_score\n",
    "def modelperformance(model_name, predictions):\n",
    "  print(\"Accuracy score on {} is {}\".format(model_name, accuracy_score(y_test,predictions)))"
   ]
  },
  {
   "cell_type": "markdown",
   "id": "e8e93974-065f-4648-a71e-bf29efcf15ba",
   "metadata": {},
   "source": [
    "Importing grid search for hyper tunning"
   ]
  },
  {
   "cell_type": "code",
   "execution_count": 209,
   "id": "523df35d-bbe9-4b0f-8775-b57f01b0dbf8",
   "metadata": {},
   "outputs": [],
   "source": [
    "from sklearn.model_selection import GridSearchCV"
   ]
  },
  {
   "cell_type": "markdown",
   "id": "94c45461-fe98-4a53-a1c9-4f9655328a7f",
   "metadata": {},
   "source": [
    "Logistic Regression"
   ]
  },
  {
   "cell_type": "code",
   "execution_count": 210,
   "id": "cd93d8df-9541-4e57-8a97-724f821d1bfb",
   "metadata": {},
   "outputs": [
    {
     "data": {
      "text/plain": [
       "['logistic_regression_model.pkl']"
      ]
     },
     "execution_count": 210,
     "metadata": {},
     "output_type": "execute_result"
    }
   ],
   "source": [
    "from sklearn.linear_model import LogisticRegression\n",
    "from sklearn.impute import SimpleImputer\n",
    "\n",
    "# Impute missing values in x_train\n",
    "imputer = SimpleImputer(strategy='mean')\n",
    "x_train_imputed = imputer.fit_transform(x_train)\n",
    "\n",
    "model = LogisticRegression()\n",
    "\n",
    "# Define parameter grid\n",
    "param_grid = {\n",
    "    'C': [0.001, 0.01, 0.1, 1, 10],\n",
    "    'penalty': ['l1', 'l2'],\n",
    "    'solver': ['liblinear']\n",
    "}\n",
    "\n",
    "# Grid search\n",
    "grid_search = GridSearchCV(model, param_grid, cv=5, scoring='accuracy')\n",
    "grid_search.fit(x_train_imputed, y_train.values.ravel())\n",
    "\n",
    "# Best estimator\n",
    "best_lr_model = grid_search.best_estimator_\n",
    "\n",
    "# Save the model\n",
    "joblib.dump(best_lr_model, \"logistic_regression_model.pkl\")"
   ]
  },
  {
   "cell_type": "markdown",
   "id": "45c62d77-4db0-4995-ae3e-ab11fddd4b18",
   "metadata": {},
   "source": [
    "Random Forest"
   ]
  },
  {
   "cell_type": "code",
   "execution_count": 211,
   "id": "4837a2bc-a796-4207-aa00-1142b6aea16c",
   "metadata": {},
   "outputs": [
    {
     "data": {
      "text/plain": [
       "['random_forest_model.pkl']"
      ]
     },
     "execution_count": 211,
     "metadata": {},
     "output_type": "execute_result"
    }
   ],
   "source": [
    "from sklearn.ensemble import RandomForestClassifier\n",
    "# Initialize the Random Forest model (NO comma!)\n",
    "rfc_model = RandomForestClassifier()\n",
    "\n",
    "# Define parameter grid (NO comma!)\n",
    "param_grid = {\n",
    "    \"n_estimators\": [64, 128],\n",
    "    \"max_features\": [3, 4],\n",
    "    \"bootstrap\": [True]\n",
    "}\n",
    "\n",
    "# Perform grid search\n",
    "grid_rfc = GridSearchCV(rfc_model, param_grid, cv=5)\n",
    "grid_rfc.fit(x_train, y_train.values.ravel())\n",
    "\n",
    "# Get best estimator\n",
    "best_rfc_model = grid_rfc.best_estimator_\n",
    "\n",
    "# Save model\n",
    "joblib.dump(best_rfc_model, \"random_forest_model.pkl\")\n"
   ]
  },
  {
   "cell_type": "code",
   "execution_count": 212,
   "id": "205bcd2e-5734-445d-807a-665eefea93a6",
   "metadata": {},
   "outputs": [
    {
     "data": {
      "text/plain": [
       "['xgboost_model.pkl']"
      ]
     },
     "execution_count": 212,
     "metadata": {},
     "output_type": "execute_result"
    }
   ],
   "source": [
    "import xgboost as xgb\n",
    "\n",
    "# Define XGBoost Classifier\n",
    "xgb_model = xgb.XGBClassifier(objective='binary:logistic', eval_metric='logloss', random_state=42)\n",
    "\n",
    "# Define parameter grid\n",
    "param_grid_xgb = {\n",
    "    'n_estimators': [100],\n",
    "    'learning_rate': [0.1],\n",
    "    'max_depth': [3],\n",
    "    'subsample': [1.0],\n",
    "    'colsample_bytree': [1.0]\n",
    "}\n",
    "\n",
    "# Grid Search\n",
    "grid_xgb = GridSearchCV(xgb_model, param_grid_xgb, cv=5, scoring='accuracy')\n",
    "grid_xgb.fit(x_train, y_train.values.ravel())\n",
    "\n",
    "# Best estimator\n",
    "best_xgb_model = grid_xgb.best_estimator_\n",
    "\n",
    "# Save model\n",
    "joblib.dump(best_xgb_model, \"xgboost_model.pkl\")\n"
   ]
  },
  {
   "cell_type": "markdown",
   "id": "08edfb38-128c-4221-82b2-54f075329199",
   "metadata": {},
   "source": [
    "model selection"
   ]
  },
  {
   "cell_type": "code",
   "execution_count": 213,
   "id": "378a07f9-0a0c-4ee0-96d5-ab9100f79d19",
   "metadata": {},
   "outputs": [
    {
     "name": "stdout",
     "output_type": "stream",
     "text": [
      "Logistic Regression: Accuracy = 0.5076\n",
      "Random Forest Classifier: Accuracy = 0.9679\n",
      "XGBoost Classifier: Accuracy = 0.5903\n"
     ]
    },
    {
     "data": {
      "text/plain": [
       "['model.pkl']"
      ]
     },
     "execution_count": 213,
     "metadata": {},
     "output_type": "execute_result"
    }
   ],
   "source": [
    "from sklearn.metrics import accuracy_score\n",
    "\n",
    "\n",
    "# Dictionary of models\n",
    "models = {\n",
    "    \"Logistic Regression\": best_lr_model,\n",
    "    \"Random Forest Classifier\": best_rfc_model,\n",
    "    \"XGBoost Classifier\": best_xgb_model\n",
    "}\n",
    "\n",
    "# Evaluate and select best model\n",
    "best_model_name = None\n",
    "best_model = None\n",
    "best_accuracy = 0\n",
    "\n",
    "for name, model in models.items():\n",
    "    y_pred = model.predict(x_test)\n",
    "    acc = accuracy_score(y_test, y_pred)\n",
    "    print(f\"{name}: Accuracy = {acc:.4f}\")\n",
    "    if acc > best_accuracy:\n",
    "        best_model_name = name\n",
    "        best_model = model\n",
    "        best_accuracy = acc\n",
    "\n",
    "# Save the best model\n",
    "joblib.dump(best_model, \"model.pkl\")\n"
   ]
  },
  {
   "cell_type": "markdown",
   "id": "37e51f2e-fea8-4911-a986-1ad09d224a03",
   "metadata": {},
   "source": [
    "model evaluation and output"
   ]
  },
  {
   "cell_type": "code",
   "execution_count": 214,
   "id": "800a0f20-574f-4b6b-9d5b-fb6fe2e130df",
   "metadata": {},
   "outputs": [
    {
     "name": "stdout",
     "output_type": "stream",
     "text": [
      "              precision    recall  f1-score   support\n",
      "\n",
      "           0       0.96      0.98      0.97      1603\n",
      "           1       0.98      0.96      0.97      1602\n",
      "\n",
      "    accuracy                           0.97      3205\n",
      "   macro avg       0.97      0.97      0.97      3205\n",
      "weighted avg       0.97      0.97      0.97      3205\n",
      "\n"
     ]
    },
    {
     "data": {
      "image/png": "[encoded data removed]",
      "text/plain": [
       "<Figure size 640x480 with 2 Axes>"
      ]
     },
     "metadata": {},
     "output_type": "display_data"
    },
    {
     "data": {
      "image/png": "[encoded data removed]",
      "text/plain": [
       "<Figure size 640x480 with 1 Axes>"
      ]
     },
     "metadata": {},
     "output_type": "display_data"
    },
    {
     "data": {
      "image/png": "[encoded data removed]",
      "text/plain": [
       "<Figure size 640x480 with 1 Axes>"
      ]
     },
     "metadata": {},
     "output_type": "display_data"
    },
    {
     "name": "stdout",
     "output_type": "stream",
     "text": [
      "✅ Output saved to final_churn_predictions.csv\n"
     ]
    }
   ],
   "source": [
    "from sklearn.metrics import classification_report, confusion_matrix, roc_auc_score, roc_curve\n",
    "import seaborn as sns\n",
    "import matplotlib.pyplot as plt\n",
    "\n",
    "# Ensure predictions are 1D\n",
    "y_pred = best_model.predict(x_test).ravel()\n",
    "y_proba = best_model.predict_proba(x_test)[:, 1].ravel()\n",
    "\n",
    "# Classification report\n",
    "print(classification_report(y_test, y_pred))\n",
    "\n",
    "# Confusion matrix\n",
    "cm = confusion_matrix(y_test, y_pred)\n",
    "sns.heatmap(cm, annot=True, fmt='d', cmap='Blues')\n",
    "plt.title(\"Confusion Matrix\")\n",
    "plt.xlabel(\"Predicted\")\n",
    "plt.ylabel(\"Actual\")\n",
    "plt.show()\n",
    "\n",
    "# ROC and AUC\n",
    "auc = roc_auc_score(y_test, y_proba)\n",
    "fpr, tpr, _ = roc_curve(y_test, y_proba)\n",
    "plt.plot(fpr, tpr, label=f'AUC = {auc:.2f}')\n",
    "plt.plot([0, 1], [0, 1], 'k--')\n",
    "plt.xlabel(\"FPR\")\n",
    "plt.ylabel(\"TPR\")\n",
    "plt.title(\"ROC Curve\")\n",
    "plt.legend()\n",
    "plt.show()\n",
    "\n",
    "# Feature importance (tree models only)\n",
    "if hasattr(best_model, 'feature_importances_'):\n",
    "    importance = best_model.feature_importances_\n",
    "    features = x_upsampled.columns\n",
    "    sns.barplot(x=importance, y=features)\n",
    "    plt.title(\"Feature Importance\")\n",
    "    plt.xlabel(\"Importance\")\n",
    "    plt.ylabel(\"Features\")\n",
    "    plt.tight_layout()\n",
    "    plt.show()\n",
    "\n",
    "# Ensure x_test is a DataFrame\n",
    "if not isinstance(x_test, pd.DataFrame):\n",
    "    x_test = pd.DataFrame(x_test, columns=x_upsampled.columns)\n",
    "\n",
    "# Add predictions to output DataFrame\n",
    "output_df = x_test.copy()\n",
    "output_df[\"Churn_Prediction\"] = y_pred\n",
    "output_df[\"Churn_Probability\"] = y_proba\n",
    "\n",
    "# Save to CSV\n",
    "output_df.to_csv(\"final_churn_predictions.csv\", index=False)\n",
    "print(\"✅ Output saved to final_churn_predictions.csv\")\n"
   ]
  },
  {
   "cell_type": "code",
   "execution_count": null,
   "id": "0cedfe31-38f9-4a40-be30-f79f26e7e2c1",
   "metadata": {},
   "outputs": [],
   "source": []
  }
 ],
 "metadata": {
  "kernelspec": {
   "display_name": "Python 3",
   "language": "python",
   "name": "python3"
  },
  "language_info": {
   "codemirror_mode": {
    "name": "ipython",
    "version": 3
   },
   "file_extension": ".py",
   "mimetype": "text/x-python",
   "name": "python",
   "nbconvert_exporter": "python",
   "pygments_lexer": "ipython3",
   "version": "3.12.8"
  }
 },
 "nbformat": 4,
 "nbformat_minor": 5
}
